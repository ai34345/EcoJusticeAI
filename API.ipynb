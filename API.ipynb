{
 "cells": [
  {
   "cell_type": "code",
   "execution_count": null,
   "id": "47983ece",
   "metadata": {
    "vscode": {
     "languageId": "plaintext"
    }
   },
   "outputs": [],
   "source": [
    "!pip uninstall mediapipe -y\n",
    "!pip install --force-reinstall mediapipe"
   ]
  },
  {
   "cell_type": "code",
   "execution_count": null,
   "id": "fd94a1a5",
   "metadata": {
    "vscode": {
     "languageId": "plaintext"
    }
   },
   "outputs": [],
   "source": [
    "from mediapipe import solutions\n",
    "from mediapipe.framework.formats import landmark_pb2\n",
    "import numpy as np\n",
    "\n",
    "\n",
    "def draw_landmarks_on_image(rgb_image, detection_result):\n",
    "  pose_landmarks_list = detection_result.pose_landmarks\n",
    "  annotated_image = np.copy(rgb_image)\n",
    "\n",
    "  # Loop through the detected poses to visualize.\n",
    "  for idx in range(len(pose_landmarks_list)):\n",
    "    pose_landmarks = pose_landmarks_list[idx]\n",
    "\n",
    "    # Draw the pose landmarks.\n",
    "    pose_landmarks_proto = landmark_pb2.NormalizedLandmarkList()\n",
    "    pose_landmarks_proto.landmark.extend([\n",
    "      landmark_pb2.NormalizedLandmark(x=landmark.x, y=landmark.y, z=landmark.z) for landmark in pose_landmarks\n",
    "    ])\n",
    "    solutions.drawing_utils.draw_landmarks(\n",
    "      annotated_image,\n",
    "      pose_landmarks_proto,\n",
    "      solutions.pose.POSE_CONNECTIONS,\n",
    "      solutions.drawing_styles.get_default_pose_landmarks_style())\n",
    "  return annotated_image"
   ]
  },
  {
   "cell_type": "code",
   "execution_count": null,
   "id": "7f0f4f23",
   "metadata": {
    "vscode": {
     "languageId": "plaintext"
    }
   },
   "outputs": [],
   "source": [
    "from google.colab import drive\n",
    "import os\n",
    "\n",
    "# Mount Google Drive to access your file\n",
    "drive.mount('/content/drive')\n",
    "\n",
    "# Now check where your file actually is\n",
    "print(\"🔍 Searching for pose_landmarker_heavy.task in Drive...\")\n",
    "\n",
    "# Search everywhere in Drive\n",
    "!find /content/drive -name \"pose_landmarker_heavy.task\" 2>/dev/null\n",
    "\n",
    "# Common locations - try these:\n",
    "possible_paths = [\n",
    "    '/content/drive/MyDrive/pose_landmarker_heavy.task',\n",
    "    '/content/drive/My Drive/pose_landmarker_heavy.task',  # Note the space\n",
    "    '/content/drive/MyDrive/Colab Notebooks/pose_landmarker_heavy.task',\n",
    "    '/content/drive/MyDrive/models/pose_landmarker_heavy.task'\n",
    "]\n",
    "\n",
    "for path in possible_paths:\n",
    "    if os.path.exists(path):\n",
    "        print(f\"✅ Found at: {path}\")\n",
    "        model_path = path\n",
    "        break\n",
    "else:\n",
    "    print(\"❌ File not found in common locations\")\n",
    "    # Let's see what's in the main Drive folder\n",
    "    print(\"\\n📁 Contents of /content/drive/MyDrive:\")\n",
    "    !ls -la \"/content/drive/MyDrive\""
   ]
  },
  {
   "cell_type": "code",
   "execution_count": null,
   "id": "48ff839d",
   "metadata": {
    "vscode": {
     "languageId": "plaintext"
    }
   },
   "outputs": [],
   "source": [
    "from google.colab import files\n",
    "uploaded = files.upload()\n",
    "video_filename = list(uploaded.keys())[0]"
   ]
  },
  {
   "cell_type": "code",
   "execution_count": null,
   "id": "c56b84d3",
   "metadata": {
    "vscode": {
     "languageId": "plaintext"
    }
   },
   "outputs": [],
   "source": [
    "import cv2\n",
    "import mediapipe as mp\n",
    "from google.colab.patches import cv2_imshow\n",
    "\n",
    "\n",
    "def blur_faces(img, blur_strength=(55, 55), confidence=0.5):\n",
    "    \"\"\"\n",
    "    Blurs all detected faces in an image (numpy array) using Mediapipe + OpenCV.\n",
    "\n",
    "    Parameters:\n",
    "        img (np.array): Input image (BGR format).\n",
    "        blur_strength (tuple): Gaussian blur kernel size (must be odd numbers).\n",
    "        confidence (float): Minimum confidence for face detection.\n",
    "\n",
    "    Returns:\n",
    "        np.array: Image with blurred faces.\n",
    "    \"\"\"\n",
    "    mp_face_detection = mp.solutions.face_detection\n",
    "    face_detection = mp_face_detection.FaceDetection(\n",
    "        model_selection=0,\n",
    "        min_detection_confidence=confidence\n",
    "    )\n",
    "\n",
    "    image = img.copy()\n",
    "    image_rgb = cv2.cvtColor(image, cv2.COLOR_BGR2RGB)\n",
    "    results = face_detection.process(image_rgb)\n",
    "\n",
    "    if results.detections:\n",
    "        for detection in results.detections:\n",
    "            bbox = detection.location_data.relative_bounding_box\n",
    "            h, w, _ = image.shape\n",
    "            x, y = int(bbox.xmin * w), int(bbox.ymin * h)\n",
    "            w_box, h_box = int(bbox.width * w), int(bbox.height * h)\n",
    "\n",
    "            # Clamp coordinates to image boundaries\n",
    "            x, y = max(0, x), max(0, y)\n",
    "            w_box, h_box = min(w_box, w - x), min(h_box, h - y)\n",
    "\n",
    "            # Apply blur to the detected face region\n",
    "            roi = image[y:y+h_box, x:x+w_box]\n",
    "            if roi.size > 0:\n",
    "                blur = cv2.GaussianBlur(roi, blur_strength, 30)\n",
    "                image[y:y+h_box, x:x+w_box] = blur\n",
    "\n",
    "    face_detection.close()\n",
    "    return image"
   ]
  },
  {
   "cell_type": "code",
   "execution_count": null,
   "id": "2a2afa6e",
   "metadata": {
    "vscode": {
     "languageId": "plaintext"
    }
   },
   "outputs": [],
   "source": [
    "import cv2\n",
    "import mediapipe as mp\n",
    "from mediapipe.tasks import python\n",
    "from mediapipe.tasks.python import vision\n",
    "from google.colab.patches import cv2_imshow\n",
    "import IPython.display as display\n",
    "import time\n",
    "\n",
    "def process_image(img):\n",
    "    base_options = python.BaseOptions(model_asset_path=model_path)\n",
    "    options = vision.PoseLandmarkerOptions(\n",
    "        base_options=base_options,\n",
    "        output_segmentation_masks=True)\n",
    "    detector = vision.PoseLandmarker.create_from_options(options)\n",
    "    img=blur_faces(img)\n",
    "    rgb_frame = cv2.cvtColor(img, cv2.COLOR_BGR2RGB)\n",
    "    image = mp.Image(image_format=mp.ImageFormat.SRGB, data=rgb_frame)\n",
    "\n",
    "    detection_result = detector.detect(image)\n",
    "    annotated_image = draw_landmarks_on_image(image.numpy_view(), detection_result)\n",
    "\n",
    "        # 🔥 CRITICAL: Clear previous output and show current frame\n",
    "    display.clear_output(wait=True)\n",
    "\n",
    "    display_frame = cv2.cvtColor(annotated_image, cv2.COLOR_RGB2BGR)\n",
    "    cv2_imshow(display_frame)\n",
    "    return display_frame\n"
   ]
  },
  {
   "cell_type": "code",
   "execution_count": null,
   "id": "cd9f3070",
   "metadata": {
    "vscode": {
     "languageId": "plaintext"
    }
   },
   "outputs": [],
   "source": [
    "import cv2\n",
    "cap = cv2.VideoCapture(video_filename)\n",
    "\n",
    "\n",
    "while cap.isOpened():\n",
    "    ret, frame = cap.read()\n",
    "    if not ret:\n",
    "        print(\"✅ Video processing completed!\")\n",
    "        break\n",
    "    out = process_image(frame)\n",
    "    blur_faces(out)\n"
   ]
  }
 ],
 "metadata": {
  "language_info": {
   "name": "python"
  }
 },
 "nbformat": 4,
 "nbformat_minor": 5
}
