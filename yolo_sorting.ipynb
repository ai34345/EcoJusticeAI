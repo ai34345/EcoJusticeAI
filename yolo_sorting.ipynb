{
 "cells": [
  {
   "cell_type": "code",
   "execution_count": null,
   "id": "f604159c",
   "metadata": {
    "vscode": {
     "languageId": "plaintext"
    }
   },
   "outputs": [],
   "source": [
    "!pip install inference_sdk"
   ]
  },
  {
   "cell_type": "code",
   "execution_count": null,
   "id": "10aa05ed",
   "metadata": {
    "vscode": {
     "languageId": "plaintext"
    }
   },
   "outputs": [],
   "source": [
    "!git clone https://github.com/nwojke/deep_sort.git\n",
    "!pip install tensorflow==2.16.1 numpy==1.26.4\n"
   ]
  },
  {
   "cell_type": "code",
   "execution_count": null,
   "id": "0ef0cb5f",
   "metadata": {
    "vscode": {
     "languageId": "plaintext"
    }
   },
   "outputs": [],
   "source": [
    "!pip install -U ml_dtypes jax jaxlib"
   ]
  },
  {
   "cell_type": "code",
   "execution_count": null,
   "id": "9d62d924",
   "metadata": {
    "vscode": {
     "languageId": "plaintext"
    }
   },
   "outputs": [],
   "source": [
    "!pip install numpy==1.26.4 --force-reinstall"
   ]
  },
  {
   "cell_type": "code",
   "execution_count": null,
   "id": "8d2d61e6",
   "metadata": {
    "vscode": {
     "languageId": "plaintext"
    }
   },
   "outputs": [],
   "source": [
    "from google.colab import files\n",
    "uploaded = files.upload()\n",
    "video_filename = list(uploaded.keys())[0]"
   ]
  },
  {
   "cell_type": "code",
   "execution_count": null,
   "id": "f5c89cf7",
   "metadata": {
    "vscode": {
     "languageId": "plaintext"
    }
   },
   "outputs": [],
   "source": [
    "# First, upload the tracker.py file to Colab\n",
    "from google.colab import files\n",
    "uploaded = files.upload()\n",
    "\n",
    "# Then import\n",
    "from tracker import Tracker"
   ]
  },
  {
   "cell_type": "code",
   "execution_count": null,
   "id": "0c83058d",
   "metadata": {
    "vscode": {
     "languageId": "plaintext"
    }
   },
   "outputs": [],
   "source": [
    "!mkdir -p model_data\n",
    "!wget -O model_data/mars-small128.pb https://github.com/Qidian213/deep_sort_yolov3/raw/master/model_data/mars-small128.pb"
   ]
  },
  {
   "cell_type": "code",
   "execution_count": null,
   "id": "c59149af",
   "metadata": {
    "vscode": {
     "languageId": "plaintext"
    }
   },
   "outputs": [],
   "source": [
    "from google.colab.patches import cv2_imshow\n",
    "from inference_sdk import InferenceHTTPClient, InferenceConfiguration\n",
    "import cv2\n",
    "import random\n",
    "from tracker import Tracker\n",
    "\n",
    "tracker = Tracker()\n",
    "\n",
    "colors = [(random.randint(0, 255), random.randint(0, 255), random.randint(0, 255)) for j in range(10)]\n",
    "CLIENT = InferenceHTTPClient(\n",
    "    api_url=\"https://serverless.roboflow.com\",\n",
    "    api_key=\"ahSbMeHx177siUJ3OYQr\",\n",
    ")\n",
    "\n",
    "configuration = InferenceConfiguration(\n",
    "    confidence_threshold=0.5\n",
    ")\n",
    "\n",
    "CLIENT.configure(configuration)\n",
    "\n",
    "cap = cv2.VideoCapture(video_filename)\n",
    "while True:\n",
    "    ret, frame = cap.read()\n",
    "    if not ret:\n",
    "        break\n",
    "    \n",
    "    result = CLIENT.infer(frame, model_id=\"my-first-project-xaurp/4\")\n",
    "    detections = []\n",
    "\n",
    "    for prediction in result['predictions']:\n",
    "        x = prediction['x']\n",
    "        y = prediction['y']\n",
    "        width = prediction['width']\n",
    "        height = prediction['height']\n",
    "        confidence = prediction['confidence']\n",
    "        class_name = prediction['class']\n",
    "\n",
    "        # Convert center coordinates to corner coordinates\n",
    "        x1 = int(x - width/2)\n",
    "        y1 = int(y - height/2)\n",
    "        x2 = int(x + width/2)\n",
    "        y2 = int(y + height/2)\n",
    "\n",
    "        detections.append([x1, y1, x2, y2, confidence])\n",
    "    \n",
    "    tracker.update(frame, detections)     \n",
    "    \n",
    "    for track in tracker.tracks:\n",
    "        bbox = track.bbox\n",
    "        x1, y1, x2, y2 = bbox\n",
    "        track_id = track.track_id\n",
    "        \n",
    "        # FIXED LINE: Added thickness parameter and converted to integers\n",
    "        cv2.rectangle(frame, (int(x1), int(y1)), (int(x2), int(y2)), colors[track_id % len(colors)], 2)\n",
    "        \n",
    "        # Optional: Add ID text\n",
    "        cv2.putText(frame, f\"ID: {track_id}\", (int(x1), int(y1)-10), \n",
    "                   cv2.FONT_HERSHEY_SIMPLEX, 0.5, colors[track_id % len(colors)], 2)\n",
    "    \n",
    "    cv2_imshow(frame)\n",
    "\n",
    "cap.release()"
   ]
  }
 ],
 "metadata": {
  "language_info": {
   "name": "python"
  }
 },
 "nbformat": 4,
 "nbformat_minor": 5
}
